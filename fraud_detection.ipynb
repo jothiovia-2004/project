{
  "nbformat": 4,
  "nbformat_minor": 0,
  "metadata": {
    "colab": {
      "provenance": [],
      "authorship_tag": "ABX9TyN8u/ARtyx3AnYToYqch4Gq",
      "include_colab_link": true
    },
    "kernelspec": {
      "name": "python3",
      "display_name": "Python 3"
    },
    "language_info": {
      "name": "python"
    }
  },
  "cells": [
    {
      "cell_type": "markdown",
      "metadata": {
        "id": "view-in-github",
        "colab_type": "text"
      },
      "source": [
        "<a href=\"https://colab.research.google.com/github/jothiovia-2004/project/blob/main/fraud_detection.ipynb\" target=\"_parent\"><img src=\"https://colab.research.google.com/assets/colab-badge.svg\" alt=\"Open In Colab\"/></a>"
      ]
    },
    {
      "cell_type": "code",
      "execution_count": null,
      "metadata": {
        "colab": {
          "base_uri": "https://localhost:8080/"
        },
        "id": "T1xOZhLjigIm",
        "outputId": "027574b7-57ba-4125-a2a5-675d9848a3c7"
      },
      "outputs": [
        {
          "output_type": "stream",
          "name": "stdout",
          "text": [
            "Populating the interactive namespace from numpy and matplotlib\n"
          ]
        }
      ],
      "source": [
        "import pandas\n",
        "import numpy\n",
        "import string\n",
        "from sklearn.model_selection import train_test_split\n",
        "import sklearn.decomposition\n",
        "import matplotlib.pyplot as plt\n",
        "from sklearn.cluster import KMeans\n",
        "%pylab inline\n",
        "import math\n",
        "import statistics\n",
        "import sklearn\n",
        "from sklearn import neighbors\n",
        "from sklearn import metrics\n",
        "from sklearn.naive_bayes import GaussianNB\n",
        "from sklearn.model_selection import cross_val_score\n",
        "from sklearn.linear_model import LogisticRegression\n",
        "from sklearn.metrics import mean_squared_error, completeness_score\n",
        "from sklearn.neural_network import MLPRegressor\n",
        "from sklearn.preprocessing import StandardScaler\n",
        "from sklearn import tree\n",
        "import graphviz\n",
        "import pydot\n",
        "import pydotplus\n",
        "from sklearn import svm\n",
        "import os\n",
        "os.environ[\"PATH\"] += os.pathsep + \"C:\\\\Program Files (x86)\\\\Graphviz2.38\\\\bin\\\\\"\n",
        "import seaborn as sns"
      ]
    },
    {
      "cell_type": "code",
      "source": [
        "fraud = pandas.read_csv(\"creditcard.csv.zip\")\n",
        "\n",
        "#Upsampled Data - Training\n",
        "#fraudUp = pandas.read_csv(\"Upsampled.csv\")\n",
        "\n",
        "#Test Data (from Upsampled)\n",
        "#fraudTest = pandas.read_csv(\"Test Data.csv\")"
      ],
      "metadata": {
        "id": "nI0U6P_FjUYR"
      },
      "execution_count": null,
      "outputs": []
    },
    {
      "cell_type": "code",
      "source": [
        "import pandas as pd\n",
        "\n",
        "# Sample dataset with the specified columns\n",
        "data = {\n",
        "    'step': [1, 2, 3, 4],\n",
        "    'customer': ['John#Doe', 'Jane*Smith', 'Alice^Brown', 'Bob&White'],\n",
        "    'age': ['25@', '30$', '22#', '35*'],\n",
        "    'gender': ['Male$', 'Female@', 'Female!', 'Male%'],\n",
        "    'zipcodeOri': ['12345$', '98765*', '54321#', '11111@'],\n",
        "    'merchant': ['Store1$', 'Store2!', 'Store3^', 'Store4&'],\n",
        "    'zipMerchant': ['54321#', '12345$', '98765!', '11111*'],\n",
        "    'category': ['Electronics@', 'Groceries#', 'Clothing$', 'Furniture%'],\n",
        "    'amount': ['200.50', '150.75', '320.10', '180.00'],\n",
        "    'fraud': ['1', '0', '1', '0']\n",
        "}\n",
        "\n",
        "# Create DataFrame\n",
        "fraud = pd.DataFrame(data)\n",
        "\n",
        "# Display original DataFrame\n",
        "print(\"Original DataFrame:\")\n",
        "print(fraud)\n",
        "\n",
        "# Data type conversion\n",
        "fraud[\"step\"] = fraud[\"step\"].astype(\"category\")\n",
        "fraud[\"customer\"] = fraud[\"customer\"].astype(\"category\")\n",
        "fraud[\"age\"] = fraud[\"age\"].astype(\"category\")\n",
        "fraud[\"gender\"] = fraud[\"gender\"].astype(\"category\")\n",
        "fraud[\"zipcodeOri\"] = fraud[\"zipcodeOri\"].astype(\"category\")\n",
        "fraud[\"merchant\"] = fraud[\"merchant\"].astype(\"category\")\n",
        "fraud[\"zipMerchant\"] = fraud[\"zipMerchant\"].astype(\"category\")\n",
        "fraud[\"category\"] = fraud[\"category\"].astype(\"category\")\n",
        "\n",
        "# Convert \"amount\" to float\n",
        "fraud[\"amount\"] = fraud[\"amount\"].astype(float)\n",
        "\n",
        "# Convert \"fraud\" to category\n",
        "fraud[\"fraud\"] = fraud[\"fraud\"].astype(\"category\")\n",
        "\n",
        "# Clean the columns by removing non-alphanumeric characters\n",
        "fraud[\"customer\"] = fraud[\"customer\"].str.replace('[^\\w\\s]','', regex=True)\n",
        "fraud[\"age\"] = fraud[\"age\"].str.replace('[^\\w\\s]','', regex=True)\n",
        "fraud[\"gender\"] = fraud[\"gender\"].str.replace('[^\\w\\s]','', regex=True)\n",
        "fraud[\"zipcodeOri\"] = fraud[\"zipcodeOri\"].str.replace('[^\\w\\s]','', regex=True)\n",
        "fraud[\"merchant\"] = fraud[\"merchant\"].str.replace('[^\\w\\s]','', regex=True)\n",
        "fraud[\"zipMerchant\"] = fraud[\"zipMerchant\"].str.replace('[^\\w\\s]','', regex=True)\n",
        "fraud[\"category\"] = fraud[\"category\"].str.replace('[^\\w\\s]','', regex=True)\n",
        "\n",
        "# Display cleaned DataFrame\n",
        "print(\"\\nCleaned DataFrame:\")\n",
        "print(fraud)\n"
      ],
      "metadata": {
        "colab": {
          "base_uri": "https://localhost:8080/"
        },
        "id": "2XendevYlre1",
        "outputId": "b1f928c9-5b8b-4845-97ec-11541a92ad13"
      },
      "execution_count": null,
      "outputs": [
        {
          "output_type": "stream",
          "name": "stdout",
          "text": [
            "Original DataFrame:\n",
            "   step     customer  age   gender zipcodeOri merchant zipMerchant  \\\n",
            "0     1     John#Doe  25@    Male$     12345$  Store1$      54321#   \n",
            "1     2   Jane*Smith  30$  Female@     98765*  Store2!      12345$   \n",
            "2     3  Alice^Brown  22#  Female!     54321#  Store3^      98765!   \n",
            "3     4    Bob&White  35*    Male%     11111@  Store4&      11111*   \n",
            "\n",
            "       category  amount fraud  \n",
            "0  Electronics@  200.50     1  \n",
            "1    Groceries#  150.75     0  \n",
            "2     Clothing$  320.10     1  \n",
            "3    Furniture%  180.00     0  \n",
            "\n",
            "Cleaned DataFrame:\n",
            "  step    customer age  gender zipcodeOri merchant zipMerchant     category  \\\n",
            "0    1     JohnDoe  25    Male      12345   Store1       54321  Electronics   \n",
            "1    2   JaneSmith  30  Female      98765   Store2       12345    Groceries   \n",
            "2    3  AliceBrown  22  Female      54321   Store3       98765     Clothing   \n",
            "3    4    BobWhite  35    Male      11111   Store4       11111    Furniture   \n",
            "\n",
            "   amount fraud  \n",
            "0  200.50     1  \n",
            "1  150.75     0  \n",
            "2  320.10     1  \n",
            "3  180.00     0  \n"
          ]
        }
      ]
    },
    {
      "cell_type": "code",
      "source": [
        "fraud = fraud.drop([\"zipcodeOri\"], axis = 1)\n",
        "fraud = fraud.drop([\"zipMerchant\"], axis = 1)"
      ],
      "metadata": {
        "id": "SpkdWOoPlvi8"
      },
      "execution_count": null,
      "outputs": []
    },
    {
      "cell_type": "code",
      "source": [
        "fraudBinaryCols = pandas.get_dummies(fraud,columns = [\"age\",\"gender\",\"merchant\",\"category\"])\n",
        "fraudBinaryCols = fraudBinaryCols.drop([\"customer\"], axis = 1)"
      ],
      "metadata": {
        "id": "Kqt6g8fYlzk_"
      },
      "execution_count": null,
      "outputs": []
    },
    {
      "cell_type": "code",
      "source": [
        "sns.distplot(fraud[\"amount\"], kde=False, rug=True)\n",
        "title(\"Amount Rug Distribution\")"
      ],
      "metadata": {
        "colab": {
          "base_uri": "https://localhost:8080/",
          "height": 680
        },
        "id": "IxxBOw5Cl4bW",
        "outputId": "039301f8-a7d7-48c6-d324-6a8cdaecb7ff"
      },
      "execution_count": null,
      "outputs": [
        {
          "output_type": "stream",
          "name": "stderr",
          "text": [
            "<ipython-input-9-a3a2bc284744>:1: UserWarning: \n",
            "\n",
            "`distplot` is a deprecated function and will be removed in seaborn v0.14.0.\n",
            "\n",
            "Please adapt your code to use either `displot` (a figure-level function with\n",
            "similar flexibility) or `histplot` (an axes-level function for histograms).\n",
            "\n",
            "For a guide to updating your code to use the new functions, please see\n",
            "https://gist.github.com/mwaskom/de44147ed2974457ad6372750bbe5751\n",
            "\n",
            "  sns.distplot(fraud[\"amount\"], kde=False, rug=True)\n"
          ]
        },
        {
          "output_type": "execute_result",
          "data": {
            "text/plain": [
              "Text(0.5, 1.0, 'Amount Rug Distribution')"
            ]
          },
          "metadata": {},
          "execution_count": 9
        },
        {
          "output_type": "display_data",
          "data": {
            "text/plain": [
              "<Figure size 640x480 with 1 Axes>"
            ],
            "image/png": "[encoded data removed]"
          },
          "metadata": {}
        }
      ]
    },
    {
      "cell_type": "code",
      "source": [
        "scaler = StandardScaler()\n",
        "fraudElim = fraudBinaryCols\n",
        "fraudElim = fraudElim.drop([\"step\", \"fraud\"], axis = 1)\n",
        "fraudStandScaler = scaler.fit_transform(fraudBinaryCols)\n",
        "fraudStand = pandas.DataFrame(fraudStandScaler)\n",
        "fraudStand.columns = list(fraudBinaryCols)\n",
        "dataStandardized = fraudStand\n",
        "dataStandardized[\"fraud\"] = fraudBinaryCols[\"fraud\"]"
      ],
      "metadata": {
        "id": "4Ku0A-GOmHFv"
      },
      "execution_count": null,
      "outputs": []
    },
    {
      "cell_type": "code",
      "source": [
        "import pandas as pd\n",
        "from sklearn.preprocessing import StandardScaler\n",
        "\n",
        "# Example dataset with 20 entries for fraudTest\n",
        "fraudTest = pd.DataFrame({\n",
        "    'customer': ['JohnDoe', 'JaneSmith', 'AliceBrown', 'BobWhite', 'SamGreen', 'TomBlue', 'LindaRed', 'SteveBlack', 'EmmaPurple', 'ChrisYellow',\n",
        "                 'AnnaGold', 'MaxSilver', 'LucyPink', 'MikeGray', 'SophiaOrange', 'GeorgeBrown', 'OliviaWhite', 'JamesBlue', 'SophiaBlack', 'JackGreen'],\n",
        "    'age': [25, 30, 22, 35, 40, 50, 27, 38, 29, 45, 33, 28, 41, 32, 24, 26, 23, 34, 39, 31],\n",
        "    'gender': ['Male', 'Female', 'Female', 'Male', 'Male', 'Female', 'Female', 'Male', 'Female', 'Male',\n",
        "               'Female', 'Male', 'Female', 'Male', 'Female', 'Male', 'Female', 'Female', 'Male', 'Male'],\n",
        "    'zipcodeOri': ['12345', '98765', '54321', '11111', '22222', '33333', '44444', '55555', '66666', '77777',\n",
        "                   '88888', '99999', '10101', '20202', '30303', '40404', '50505', '60606', '70707', '80808'],\n",
        "    'merchant': ['Store1', 'Store2', 'Store3', 'Store4', 'Store5', 'Store6', 'Store7', 'Store8', 'Store9', 'Store10',\n",
        "                 'Store11', 'Store12', 'Store13', 'Store14', 'Store15', 'Store16', 'Store17', 'Store18', 'Store19', 'Store20'],\n",
        "    'zipMerchant': ['54321', '12345', '98765', '11111', '22222', '33333', '44444', '55555', '66666', '77777',\n",
        "                    '88888', '99999', '10101', '20202', '30303', '40404', '50505', '60606', '70707', '80808'],\n",
        "    'category': ['Electronics', 'Groceries', 'Clothing', 'Furniture', 'Toys', 'Jewelry', 'Automotive', 'Beauty', 'Health', 'Sports',\n",
        "                 'Books', 'Music', 'Games', 'Office', 'Food', 'Tools', 'Appliances', 'Garden', 'Pets', 'Shoes'], # Removed 'Travel' to match the length of other columns\n",
        "    'amount': [200.50, 150.75, 320.10, 180.00, 250.00, 100.50, 150.00, 200.00, 300.00, 400.00,\n",
        "               130.00, 210.00, 180.50, 170.75, 225.30, 210.60, 140.00, 180.90, 220.30, 250.00], # Removed extra value to match the length\n",
        "    'fraud': [1, 0, 1, 0, 1, 0, 1, 0, 1, 0,\n",
        "              1, 0, 1, 0, 1, 0, 1, 0, 1, 0]\n",
        "})"
      ],
      "metadata": {
        "id": "awYShzOtpD0j"
      },
      "execution_count": null,
      "outputs": []
    },
    {
      "cell_type": "code",
      "source": [
        "fraudUp = fraudTest.copy()\n",
        "\n",
        "# Remove 'fraud' column from fraudTest to prepare it for scaling\n",
        "fraudTestTest = fraudTest.drop(\"fraud\", axis=1)\n",
        "\n",
        "# Apply StandardScaler on fraudTestTest (scale only numerical columns)\n",
        "scaler = StandardScaler()\n",
        "fraudStandScaler = scaler.fit_transform(fraudTestTest.select_dtypes(include=['float64', 'int64']))  # Only scale numerical columns\n",
        "fraudStand = pd.DataFrame(fraudStandScaler)\n",
        "fraudStand.columns = fraudTestTest.select_dtypes(include=['float64', 'int64']).columns  # Keep original numerical column names\n",
        "dataStandardizedTest = fraudStand\n",
        "\n",
        "# Simulate columns for fraudUp (using only numerical columns for scaling)\n",
        "fraudBinaryCols = fraudUp.select_dtypes(include=['float64', 'int64']).columns  # Assuming you're using numerical columns\n",
        "fraudStandScalerUP = scaler.fit_transform(fraudUp[fraudBinaryCols])\n",
        "fraudStand = pd.DataFrame(fraudStandScalerUP)\n",
        "fraudStand.columns = fraudBinaryCols  # Keeping column names of numerical columns\n",
        "dataStandardizedUP = fraudStand\n",
        "\n",
        "# Display results\n",
        "print(\"Data Standardized Test:\")\n",
        "print(dataStandardizedTest)\n",
        "\n",
        "print(\"\\nData Standardized UP:\")\n",
        "print(dataStandardizedUP)"
      ],
      "metadata": {
        "colab": {
          "base_uri": "https://localhost:8080/"
        },
        "id": "kt9UQnYDpNPH",
        "outputId": "30e0d8e1-67cb-475a-8ae5-9b85b29d3df9"
      },
      "execution_count": null,
      "outputs": [
        {
          "output_type": "stream",
          "name": "stdout",
          "text": [
            "Data Standardized Test:\n",
            "         age    amount\n",
            "0  -1.017959 -0.116487\n",
            "1  -0.348249 -0.839987\n",
            "2  -1.419784  1.622822\n",
            "3   0.321461 -0.414613\n",
            "4   0.991170  0.603377\n",
            "5   2.330589 -1.570759\n",
            "6  -0.750075 -0.850894\n",
            "7   0.723286 -0.123759\n",
            "8  -0.482191  1.330513\n",
            "9   1.660880  2.784785\n",
            "10  0.053577 -1.141749\n",
            "11 -0.616133  0.021669\n",
            "12  1.125112 -0.407342\n",
            "13 -0.080365 -0.549133\n",
            "14 -1.151901  0.244172\n",
            "15 -0.884017  0.030394\n",
            "16 -1.285842 -0.996322\n",
            "17  0.187519 -0.401524\n",
            "18  0.857228  0.171459\n",
            "19 -0.214307  0.603377\n",
            "\n",
            "Data Standardized UP:\n",
            "         age    amount  fraud\n",
            "0  -1.017959 -0.116487    1.0\n",
            "1  -0.348249 -0.839987   -1.0\n",
            "2  -1.419784  1.622822    1.0\n",
            "3   0.321461 -0.414613   -1.0\n",
            "4   0.991170  0.603377    1.0\n",
            "5   2.330589 -1.570759   -1.0\n",
            "6  -0.750075 -0.850894    1.0\n",
            "7   0.723286 -0.123759   -1.0\n",
            "8  -0.482191  1.330513    1.0\n",
            "9   1.660880  2.784785   -1.0\n",
            "10  0.053577 -1.141749    1.0\n",
            "11 -0.616133  0.021669   -1.0\n",
            "12  1.125112 -0.407342    1.0\n",
            "13 -0.080365 -0.549133   -1.0\n",
            "14 -1.151901  0.244172    1.0\n",
            "15 -0.884017  0.030394   -1.0\n",
            "16 -1.285842 -0.996322    1.0\n",
            "17  0.187519 -0.401524   -1.0\n",
            "18  0.857228  0.171459    1.0\n",
            "19 -0.214307  0.603377   -1.0\n"
          ]
        }
      ]
    },
    {
      "cell_type": "code",
      "source": [
        "error = list()\n",
        "kList = list()\n",
        "for k in range(1, 5):\n",
        "    kmeans_model = KMeans(n_clusters = k, random_state = 2).fit(dataStandardized)\n",
        "    labels = kmeans_model.labels_\n",
        "    labels = labels.tolist()\n",
        "    cost = kmeans_model.inertia_\n",
        "    error.append(cost)\n",
        "    kList.append(k)\n",
        "    print(\"k:\", k, \" cost:\", cost)\n",
        "plt.plot(kList, error)\n",
        "plt.title(\"K Values And Error Score - Original Data\")\n",
        "plt.xlabel(\"K Value\")\n",
        "plt.ylabel(\"Error Score\")\n",
        "plt.grid()\n",
        "plt.show()"
      ],
      "metadata": {
        "colab": {
          "base_uri": "https://localhost:8080/",
          "height": 541
        },
        "id": "4ARGsZ7UmA-b",
        "outputId": "1430c4c3-a85a-49c5-bfc8-ed8bf97c1b01"
      },
      "execution_count": null,
      "outputs": [
        {
          "output_type": "stream",
          "name": "stdout",
          "text": [
            "k: 1  cost: 70.0\n",
            "k: 2  cost: 44.507967511907246\n",
            "k: 3  cost: 22.150661166268417\n",
            "k: 4  cost: 0.0\n"
          ]
        },
        {
          "output_type": "display_data",
          "data": {
            "text/plain": [
              "<Figure size 640x480 with 1 Axes>"
            ],
            "image/png": "[encoded data removed]"
          },
          "metadata": {}
        }
      ]
    },
    {
      "cell_type": "code",
      "source": [
        "kmeans = KMeans(n_clusters = 4, random_state = 891).fit(dataStandardized)\n",
        "labs = kmeans.labels_\n",
        "labsList = labs.tolist()\n",
        "dataStandardized[\"customerGroup\"] = labsList\n",
        "dataStandardized[\"fraud\"] = fraud[\"fraud\"]"
      ],
      "metadata": {
        "id": "b25LjPemnZyQ"
      },
      "execution_count": null,
      "outputs": []
    },
    {
      "cell_type": "code",
      "source": [
        "counts = dataStandardized.groupby(\"customerGroup\").count()\n",
        "counts = counts[\"step\"].values.tolist()\n",
        "\n",
        "dataStandardized.groupby(['customerGroup', 'fraud']).size().unstack().plot(kind='bar', stacked=True)\n",
        "annotate(counts[0], [-0.21, 325000])\n",
        "annotate(counts[1], [0.9, 50000])\n",
        "annotate(counts[2], [1.76, 280000])\n",
        "annotate(counts[3], [2.9, 50000])\n",
        "\n",
        "ylabel(\"Number of Transactions\")\n",
        "xlabel(\"Customer Group\")\n",
        "grid()\n",
        "title(\"Customer Group Breakdown - Original Data\")"
      ],
      "metadata": {
        "colab": {
          "base_uri": "https://localhost:8080/",
          "height": 539
        },
        "id": "5cZU5F1nnfoc",
        "outputId": "e1d4b2ac-89dc-4e7e-c2eb-3ec3b8355db9"
      },
      "execution_count": null,
      "outputs": [
        {
          "output_type": "stream",
          "name": "stderr",
          "text": [
            "<ipython-input-36-6592a39926c5>:4: FutureWarning: The default of observed=False is deprecated and will be changed to True in a future version of pandas. Pass observed=False to retain current behavior or observed=True to adopt the future default and silence this warning.\n",
            "  dataStandardized.groupby(['customerGroup', 'fraud']).size().unstack().plot(kind='bar', stacked=True)\n"
          ]
        },
        {
          "output_type": "execute_result",
          "data": {
            "text/plain": [
              "Text(0.5, 1.0, 'Customer Group Breakdown - Original Data')"
            ]
          },
          "metadata": {},
          "execution_count": 36
        },
        {
          "output_type": "display_data",
          "data": {
            "text/plain": [
              "<Figure size 640x480 with 1 Axes>"
            ],
            "image/png": "[encoded data removed]"
          },
          "metadata": {}
        }
      ]
    },
    {
      "cell_type": "code",
      "source": [
        "cust0 = dataStandardized.loc[dataStandardized['customerGroup'] == 0]\n",
        "cust0 = cust0.reset_index(drop = True)\n",
        "cust1 = dataStandardized.loc[dataStandardized['customerGroup'] == 1]\n",
        "cust1 = cust1.reset_index(drop = True)\n",
        "cust2 = dataStandardized.loc[dataStandardized['customerGroup'] == 2]\n",
        "cust2 = cust2.reset_index(drop = True)\n",
        "cust3 = dataStandardized.loc[dataStandardized['customerGroup'] == 3]\n",
        "cust3 = cust3.reset_index(drop = True)\n",
        "\n",
        "counts0 = cust0.groupby(\"fraud\").count()\n",
        "counts0 = counts0[\"step\"].values.tolist()\n",
        "nofraud0 = counts0[0]/sum(counts0)\n",
        "fraud0 = counts0[1]/sum(counts0)\n",
        "print(\"Customer Group 0:\", \"%s not fraud\" % nofraud0, \"| %s fraud\" % fraud0)\n",
        "\n",
        "counts1 = cust1.groupby(\"fraud\").count()\n",
        "counts1 = counts1[\"step\"].values.tolist()\n",
        "nofraud1 = counts1[0]/sum(counts1)\n",
        "fraud1 = counts1[1]/sum(counts1)\n",
        "print(\"Customer Group 1:\", \"%s not fraud\" % nofraud1, \"| %s fraud\" % fraud1)\n",
        "\n",
        "counts2 = cust2.groupby(\"fraud\").count()\n",
        "counts2 = counts2[\"step\"].values.tolist()\n",
        "nofraud2 = counts2[0]/sum(counts2)\n",
        "fraud2 = counts2[1]/sum(counts2)\n",
        "print(\"Customer Group 2:\", \"%s not fraud\" % nofraud2, \"| %s fraud\" % fraud2)\n",
        "\n",
        "counts3 = cust3.groupby(\"fraud\").count()\n",
        "counts3 = counts3[\"step\"].values.tolist()\n",
        "nofraud3 = counts3[0]/sum(counts3)\n",
        "fraud3 = counts3[1]/sum(counts3)\n",
        "print(\"Customer Group 3:\", \"%s not fraud\" % nofraud3, \"| %s fraud\" % fraud3)"
      ],
      "metadata": {
        "colab": {
          "base_uri": "https://localhost:8080/"
        },
        "id": "lSCtMcmonjlQ",
        "outputId": "d4aff40d-eb3e-404d-97f9-c92337b44b7c"
      },
      "execution_count": null,
      "outputs": [
        {
          "output_type": "stream",
          "name": "stdout",
          "text": [
            "Customer Group 0: 1.0 not fraud | 0.0 fraud\n",
            "Customer Group 1: 1.0 not fraud | 0.0 fraud\n",
            "Customer Group 2: 0.0 not fraud | 1.0 fraud\n",
            "Customer Group 3: 0.0 not fraud | 1.0 fraud\n"
          ]
        },
        {
          "output_type": "stream",
          "name": "stderr",
          "text": [
            "<ipython-input-37-d16e69dcfa66>:10: FutureWarning: The default of observed=False is deprecated and will be changed to True in a future version of pandas. Pass observed=False to retain current behavior or observed=True to adopt the future default and silence this warning.\n",
            "  counts0 = cust0.groupby(\"fraud\").count()\n",
            "<ipython-input-37-d16e69dcfa66>:16: FutureWarning: The default of observed=False is deprecated and will be changed to True in a future version of pandas. Pass observed=False to retain current behavior or observed=True to adopt the future default and silence this warning.\n",
            "  counts1 = cust1.groupby(\"fraud\").count()\n",
            "<ipython-input-37-d16e69dcfa66>:22: FutureWarning: The default of observed=False is deprecated and will be changed to True in a future version of pandas. Pass observed=False to retain current behavior or observed=True to adopt the future default and silence this warning.\n",
            "  counts2 = cust2.groupby(\"fraud\").count()\n",
            "<ipython-input-37-d16e69dcfa66>:28: FutureWarning: The default of observed=False is deprecated and will be changed to True in a future version of pandas. Pass observed=False to retain current behavior or observed=True to adopt the future default and silence this warning.\n",
            "  counts3 = cust3.groupby(\"fraud\").count()\n"
          ]
        }
      ]
    },
    {
      "cell_type": "code",
      "source": [
        "dataStandardized1 = dataStandardized\n",
        "dataStandardized1 = dataStandardized1.drop(\"fraud\", axis = 1)\n",
        "X_train, X_test, y_train, y_test = train_test_split(dataStandardized1, dataStandardized['fraud'], test_size = 0.40, random_state = 10, stratify = dataStandardized['fraud'])"
      ],
      "metadata": {
        "id": "IAj8uqy_nw2H"
      },
      "execution_count": null,
      "outputs": []
    },
    {
      "cell_type": "code",
      "source": [
        "gnb = GaussianNB()\n",
        "nb = cross_val_score(gnb, X_train, y_train, cv = 2)\n",
        "print(\"Train Data:\", numpy.mean(nb))\n",
        "\n",
        "gnb = GaussianNB()\n",
        "nb = cross_val_score(gnb, X_test, y_test, cv = 2)\n",
        "print(\"Test Data:\", numpy.mean(nb))"
      ],
      "metadata": {
        "colab": {
          "base_uri": "https://localhost:8080/",
          "height": 356
        },
        "id": "3UtTbjqrnzxV",
        "outputId": "ef6c8df2-af36-4612-c7e9-b15e042fb21f"
      },
      "execution_count": null,
      "outputs": [
        {
          "output_type": "error",
          "ename": "ValueError",
          "evalue": "n_splits=2 cannot be greater than the number of members in each class.",
          "traceback": [
            "\u001b[0;31m---------------------------------------------------------------------------\u001b[0m",
            "\u001b[0;31mValueError\u001b[0m                                Traceback (most recent call last)",
            "\u001b[0;32m<ipython-input-39-46d8a23da7ba>\u001b[0m in \u001b[0;36m<cell line: 0>\u001b[0;34m()\u001b[0m\n\u001b[1;32m      1\u001b[0m \u001b[0mgnb\u001b[0m \u001b[0;34m=\u001b[0m \u001b[0mGaussianNB\u001b[0m\u001b[0;34m(\u001b[0m\u001b[0;34m)\u001b[0m\u001b[0;34m\u001b[0m\u001b[0;34m\u001b[0m\u001b[0m\n\u001b[0;32m----> 2\u001b[0;31m \u001b[0mnb\u001b[0m \u001b[0;34m=\u001b[0m \u001b[0mcross_val_score\u001b[0m\u001b[0;34m(\u001b[0m\u001b[0mgnb\u001b[0m\u001b[0;34m,\u001b[0m \u001b[0mX_train\u001b[0m\u001b[0;34m,\u001b[0m \u001b[0my_train\u001b[0m\u001b[0;34m,\u001b[0m \u001b[0mcv\u001b[0m \u001b[0;34m=\u001b[0m \u001b[0;36m2\u001b[0m\u001b[0;34m)\u001b[0m\u001b[0;34m\u001b[0m\u001b[0;34m\u001b[0m\u001b[0m\n\u001b[0m\u001b[1;32m      3\u001b[0m \u001b[0mprint\u001b[0m\u001b[0;34m(\u001b[0m\u001b[0;34m\"Train Data:\"\u001b[0m\u001b[0;34m,\u001b[0m \u001b[0mnumpy\u001b[0m\u001b[0;34m.\u001b[0m\u001b[0mmean\u001b[0m\u001b[0;34m(\u001b[0m\u001b[0mnb\u001b[0m\u001b[0;34m)\u001b[0m\u001b[0;34m)\u001b[0m\u001b[0;34m\u001b[0m\u001b[0;34m\u001b[0m\u001b[0m\n\u001b[1;32m      4\u001b[0m \u001b[0;34m\u001b[0m\u001b[0m\n\u001b[1;32m      5\u001b[0m \u001b[0mgnb\u001b[0m \u001b[0;34m=\u001b[0m \u001b[0mGaussianNB\u001b[0m\u001b[0;34m(\u001b[0m\u001b[0;34m)\u001b[0m\u001b[0;34m\u001b[0m\u001b[0;34m\u001b[0m\u001b[0m\n",
            "\u001b[0;32m/usr/local/lib/python3.11/dist-packages/sklearn/utils/_param_validation.py\u001b[0m in \u001b[0;36mwrapper\u001b[0;34m(*args, **kwargs)\u001b[0m\n\u001b[1;32m    214\u001b[0m                     )\n\u001b[1;32m    215\u001b[0m                 ):\n\u001b[0;32m--> 216\u001b[0;31m                     \u001b[0;32mreturn\u001b[0m \u001b[0mfunc\u001b[0m\u001b[0;34m(\u001b[0m\u001b[0;34m*\u001b[0m\u001b[0margs\u001b[0m\u001b[0;34m,\u001b[0m \u001b[0;34m**\u001b[0m\u001b[0mkwargs\u001b[0m\u001b[0;34m)\u001b[0m\u001b[0;34m\u001b[0m\u001b[0;34m\u001b[0m\u001b[0m\n\u001b[0m\u001b[1;32m    217\u001b[0m             \u001b[0;32mexcept\u001b[0m \u001b[0mInvalidParameterError\u001b[0m \u001b[0;32mas\u001b[0m \u001b[0me\u001b[0m\u001b[0;34m:\u001b[0m\u001b[0;34m\u001b[0m\u001b[0;34m\u001b[0m\u001b[0m\n\u001b[1;32m    218\u001b[0m                 \u001b[0;31m# When the function is just a wrapper around an estimator, we allow\u001b[0m\u001b[0;34m\u001b[0m\u001b[0;34m\u001b[0m\u001b[0m\n",
            "\u001b[0;32m/usr/local/lib/python3.11/dist-packages/sklearn/model_selection/_validation.py\u001b[0m in \u001b[0;36mcross_val_score\u001b[0;34m(estimator, X, y, groups, scoring, cv, n_jobs, verbose, params, pre_dispatch, error_score)\u001b[0m\n\u001b[1;32m    682\u001b[0m     \u001b[0mscorer\u001b[0m \u001b[0;34m=\u001b[0m \u001b[0mcheck_scoring\u001b[0m\u001b[0;34m(\u001b[0m\u001b[0mestimator\u001b[0m\u001b[0;34m,\u001b[0m \u001b[0mscoring\u001b[0m\u001b[0;34m=\u001b[0m\u001b[0mscoring\u001b[0m\u001b[0;34m)\u001b[0m\u001b[0;34m\u001b[0m\u001b[0;34m\u001b[0m\u001b[0m\n\u001b[1;32m    683\u001b[0m \u001b[0;34m\u001b[0m\u001b[0m\n\u001b[0;32m--> 684\u001b[0;31m     cv_results = cross_validate(\n\u001b[0m\u001b[1;32m    685\u001b[0m         \u001b[0mestimator\u001b[0m\u001b[0;34m=\u001b[0m\u001b[0mestimator\u001b[0m\u001b[0;34m,\u001b[0m\u001b[0;34m\u001b[0m\u001b[0;34m\u001b[0m\u001b[0m\n\u001b[1;32m    686\u001b[0m         \u001b[0mX\u001b[0m\u001b[0;34m=\u001b[0m\u001b[0mX\u001b[0m\u001b[0;34m,\u001b[0m\u001b[0;34m\u001b[0m\u001b[0;34m\u001b[0m\u001b[0m\n",
            "\u001b[0;32m/usr/local/lib/python3.11/dist-packages/sklearn/utils/_param_validation.py\u001b[0m in \u001b[0;36mwrapper\u001b[0;34m(*args, **kwargs)\u001b[0m\n\u001b[1;32m    214\u001b[0m                     )\n\u001b[1;32m    215\u001b[0m                 ):\n\u001b[0;32m--> 216\u001b[0;31m                     \u001b[0;32mreturn\u001b[0m \u001b[0mfunc\u001b[0m\u001b[0;34m(\u001b[0m\u001b[0;34m*\u001b[0m\u001b[0margs\u001b[0m\u001b[0;34m,\u001b[0m \u001b[0;34m**\u001b[0m\u001b[0mkwargs\u001b[0m\u001b[0;34m)\u001b[0m\u001b[0;34m\u001b[0m\u001b[0;34m\u001b[0m\u001b[0m\n\u001b[0m\u001b[1;32m    217\u001b[0m             \u001b[0;32mexcept\u001b[0m \u001b[0mInvalidParameterError\u001b[0m \u001b[0;32mas\u001b[0m \u001b[0me\u001b[0m\u001b[0;34m:\u001b[0m\u001b[0;34m\u001b[0m\u001b[0;34m\u001b[0m\u001b[0m\n\u001b[1;32m    218\u001b[0m                 \u001b[0;31m# When the function is just a wrapper around an estimator, we allow\u001b[0m\u001b[0;34m\u001b[0m\u001b[0;34m\u001b[0m\u001b[0m\n",
            "\u001b[0;32m/usr/local/lib/python3.11/dist-packages/sklearn/model_selection/_validation.py\u001b[0m in \u001b[0;36mcross_validate\u001b[0;34m(estimator, X, y, groups, scoring, cv, n_jobs, verbose, params, pre_dispatch, return_train_score, return_estimator, return_indices, error_score)\u001b[0m\n\u001b[1;32m    409\u001b[0m     \u001b[0;31m# independent, and that it is pickle-able.\u001b[0m\u001b[0;34m\u001b[0m\u001b[0;34m\u001b[0m\u001b[0m\n\u001b[1;32m    410\u001b[0m     \u001b[0mparallel\u001b[0m \u001b[0;34m=\u001b[0m \u001b[0mParallel\u001b[0m\u001b[0;34m(\u001b[0m\u001b[0mn_jobs\u001b[0m\u001b[0;34m=\u001b[0m\u001b[0mn_jobs\u001b[0m\u001b[0;34m,\u001b[0m \u001b[0mverbose\u001b[0m\u001b[0;34m=\u001b[0m\u001b[0mverbose\u001b[0m\u001b[0;34m,\u001b[0m \u001b[0mpre_dispatch\u001b[0m\u001b[0;34m=\u001b[0m\u001b[0mpre_dispatch\u001b[0m\u001b[0;34m)\u001b[0m\u001b[0;34m\u001b[0m\u001b[0;34m\u001b[0m\u001b[0m\n\u001b[0;32m--> 411\u001b[0;31m     results = parallel(\n\u001b[0m\u001b[1;32m    412\u001b[0m         delayed(_fit_and_score)(\n\u001b[1;32m    413\u001b[0m             \u001b[0mclone\u001b[0m\u001b[0;34m(\u001b[0m\u001b[0mestimator\u001b[0m\u001b[0;34m)\u001b[0m\u001b[0;34m,\u001b[0m\u001b[0;34m\u001b[0m\u001b[0;34m\u001b[0m\u001b[0m\n",
            "\u001b[0;32m/usr/local/lib/python3.11/dist-packages/sklearn/utils/parallel.py\u001b[0m in \u001b[0;36m__call__\u001b[0;34m(self, iterable)\u001b[0m\n\u001b[1;32m     75\u001b[0m             \u001b[0;32mfor\u001b[0m \u001b[0mdelayed_func\u001b[0m\u001b[0;34m,\u001b[0m \u001b[0margs\u001b[0m\u001b[0;34m,\u001b[0m \u001b[0mkwargs\u001b[0m \u001b[0;32min\u001b[0m \u001b[0miterable\u001b[0m\u001b[0;34m\u001b[0m\u001b[0;34m\u001b[0m\u001b[0m\n\u001b[1;32m     76\u001b[0m         )\n\u001b[0;32m---> 77\u001b[0;31m         \u001b[0;32mreturn\u001b[0m \u001b[0msuper\u001b[0m\u001b[0;34m(\u001b[0m\u001b[0;34m)\u001b[0m\u001b[0;34m.\u001b[0m\u001b[0m__call__\u001b[0m\u001b[0;34m(\u001b[0m\u001b[0miterable_with_config\u001b[0m\u001b[0;34m)\u001b[0m\u001b[0;34m\u001b[0m\u001b[0;34m\u001b[0m\u001b[0m\n\u001b[0m\u001b[1;32m     78\u001b[0m \u001b[0;34m\u001b[0m\u001b[0m\n\u001b[1;32m     79\u001b[0m \u001b[0;34m\u001b[0m\u001b[0m\n",
            "\u001b[0;32m/usr/local/lib/python3.11/dist-packages/joblib/parallel.py\u001b[0m in \u001b[0;36m__call__\u001b[0;34m(self, iterable)\u001b[0m\n\u001b[1;32m   1916\u001b[0m             \u001b[0moutput\u001b[0m \u001b[0;34m=\u001b[0m \u001b[0mself\u001b[0m\u001b[0;34m.\u001b[0m\u001b[0m_get_sequential_output\u001b[0m\u001b[0;34m(\u001b[0m\u001b[0miterable\u001b[0m\u001b[0;34m)\u001b[0m\u001b[0;34m\u001b[0m\u001b[0;34m\u001b[0m\u001b[0m\n\u001b[1;32m   1917\u001b[0m             \u001b[0mnext\u001b[0m\u001b[0;34m(\u001b[0m\u001b[0moutput\u001b[0m\u001b[0;34m)\u001b[0m\u001b[0;34m\u001b[0m\u001b[0;34m\u001b[0m\u001b[0m\n\u001b[0;32m-> 1918\u001b[0;31m             \u001b[0;32mreturn\u001b[0m \u001b[0moutput\u001b[0m \u001b[0;32mif\u001b[0m \u001b[0mself\u001b[0m\u001b[0;34m.\u001b[0m\u001b[0mreturn_generator\u001b[0m \u001b[0;32melse\u001b[0m \u001b[0mlist\u001b[0m\u001b[0;34m(\u001b[0m\u001b[0moutput\u001b[0m\u001b[0;34m)\u001b[0m\u001b[0;34m\u001b[0m\u001b[0;34m\u001b[0m\u001b[0m\n\u001b[0m\u001b[1;32m   1919\u001b[0m \u001b[0;34m\u001b[0m\u001b[0m\n\u001b[1;32m   1920\u001b[0m         \u001b[0;31m# Let's create an ID that uniquely identifies the current call. If the\u001b[0m\u001b[0;34m\u001b[0m\u001b[0;34m\u001b[0m\u001b[0m\n",
            "\u001b[0;32m/usr/local/lib/python3.11/dist-packages/joblib/parallel.py\u001b[0m in \u001b[0;36m_get_sequential_output\u001b[0;34m(self, iterable)\u001b[0m\n\u001b[1;32m   1842\u001b[0m \u001b[0;34m\u001b[0m\u001b[0m\n\u001b[1;32m   1843\u001b[0m             \u001b[0;31m# Sequentially call the tasks and yield the results.\u001b[0m\u001b[0;34m\u001b[0m\u001b[0;34m\u001b[0m\u001b[0m\n\u001b[0;32m-> 1844\u001b[0;31m             \u001b[0;32mfor\u001b[0m \u001b[0mfunc\u001b[0m\u001b[0;34m,\u001b[0m \u001b[0margs\u001b[0m\u001b[0;34m,\u001b[0m \u001b[0mkwargs\u001b[0m \u001b[0;32min\u001b[0m \u001b[0miterable\u001b[0m\u001b[0;34m:\u001b[0m\u001b[0;34m\u001b[0m\u001b[0;34m\u001b[0m\u001b[0m\n\u001b[0m\u001b[1;32m   1845\u001b[0m                 \u001b[0mself\u001b[0m\u001b[0;34m.\u001b[0m\u001b[0mn_dispatched_batches\u001b[0m \u001b[0;34m+=\u001b[0m \u001b[0;36m1\u001b[0m\u001b[0;34m\u001b[0m\u001b[0;34m\u001b[0m\u001b[0m\n\u001b[1;32m   1846\u001b[0m                 \u001b[0mself\u001b[0m\u001b[0;34m.\u001b[0m\u001b[0mn_dispatched_tasks\u001b[0m \u001b[0;34m+=\u001b[0m \u001b[0;36m1\u001b[0m\u001b[0;34m\u001b[0m\u001b[0;34m\u001b[0m\u001b[0m\n",
            "\u001b[0;32m/usr/local/lib/python3.11/dist-packages/sklearn/utils/parallel.py\u001b[0m in \u001b[0;36m<genexpr>\u001b[0;34m(.0)\u001b[0m\n\u001b[1;32m     71\u001b[0m         \u001b[0;31m# pre_dispatch and n_jobs.\u001b[0m\u001b[0;34m\u001b[0m\u001b[0;34m\u001b[0m\u001b[0m\n\u001b[1;32m     72\u001b[0m         \u001b[0mconfig\u001b[0m \u001b[0;34m=\u001b[0m \u001b[0mget_config\u001b[0m\u001b[0;34m(\u001b[0m\u001b[0;34m)\u001b[0m\u001b[0;34m\u001b[0m\u001b[0;34m\u001b[0m\u001b[0m\n\u001b[0;32m---> 73\u001b[0;31m         iterable_with_config = (\n\u001b[0m\u001b[1;32m     74\u001b[0m             \u001b[0;34m(\u001b[0m\u001b[0m_with_config\u001b[0m\u001b[0;34m(\u001b[0m\u001b[0mdelayed_func\u001b[0m\u001b[0;34m,\u001b[0m \u001b[0mconfig\u001b[0m\u001b[0;34m)\u001b[0m\u001b[0;34m,\u001b[0m \u001b[0margs\u001b[0m\u001b[0;34m,\u001b[0m \u001b[0mkwargs\u001b[0m\u001b[0;34m)\u001b[0m\u001b[0;34m\u001b[0m\u001b[0;34m\u001b[0m\u001b[0m\n\u001b[1;32m     75\u001b[0m             \u001b[0;32mfor\u001b[0m \u001b[0mdelayed_func\u001b[0m\u001b[0;34m,\u001b[0m \u001b[0margs\u001b[0m\u001b[0;34m,\u001b[0m \u001b[0mkwargs\u001b[0m \u001b[0;32min\u001b[0m \u001b[0miterable\u001b[0m\u001b[0;34m\u001b[0m\u001b[0;34m\u001b[0m\u001b[0m\n",
            "\u001b[0;32m/usr/local/lib/python3.11/dist-packages/sklearn/model_selection/_validation.py\u001b[0m in \u001b[0;36m<genexpr>\u001b[0;34m(.0)\u001b[0m\n\u001b[1;32m    409\u001b[0m     \u001b[0;31m# independent, and that it is pickle-able.\u001b[0m\u001b[0;34m\u001b[0m\u001b[0;34m\u001b[0m\u001b[0m\n\u001b[1;32m    410\u001b[0m     \u001b[0mparallel\u001b[0m \u001b[0;34m=\u001b[0m \u001b[0mParallel\u001b[0m\u001b[0;34m(\u001b[0m\u001b[0mn_jobs\u001b[0m\u001b[0;34m=\u001b[0m\u001b[0mn_jobs\u001b[0m\u001b[0;34m,\u001b[0m \u001b[0mverbose\u001b[0m\u001b[0;34m=\u001b[0m\u001b[0mverbose\u001b[0m\u001b[0;34m,\u001b[0m \u001b[0mpre_dispatch\u001b[0m\u001b[0;34m=\u001b[0m\u001b[0mpre_dispatch\u001b[0m\u001b[0;34m)\u001b[0m\u001b[0;34m\u001b[0m\u001b[0;34m\u001b[0m\u001b[0m\n\u001b[0;32m--> 411\u001b[0;31m     results = parallel(\n\u001b[0m\u001b[1;32m    412\u001b[0m         delayed(_fit_and_score)(\n\u001b[1;32m    413\u001b[0m             \u001b[0mclone\u001b[0m\u001b[0;34m(\u001b[0m\u001b[0mestimator\u001b[0m\u001b[0;34m)\u001b[0m\u001b[0;34m,\u001b[0m\u001b[0;34m\u001b[0m\u001b[0;34m\u001b[0m\u001b[0m\n",
            "\u001b[0;32m/usr/local/lib/python3.11/dist-packages/sklearn/model_selection/_split.py\u001b[0m in \u001b[0;36msplit\u001b[0;34m(self, X, y, groups)\u001b[0m\n\u001b[1;32m    409\u001b[0m             )\n\u001b[1;32m    410\u001b[0m \u001b[0;34m\u001b[0m\u001b[0m\n\u001b[0;32m--> 411\u001b[0;31m         \u001b[0;32mfor\u001b[0m \u001b[0mtrain\u001b[0m\u001b[0;34m,\u001b[0m \u001b[0mtest\u001b[0m \u001b[0;32min\u001b[0m \u001b[0msuper\u001b[0m\u001b[0;34m(\u001b[0m\u001b[0;34m)\u001b[0m\u001b[0;34m.\u001b[0m\u001b[0msplit\u001b[0m\u001b[0;34m(\u001b[0m\u001b[0mX\u001b[0m\u001b[0;34m,\u001b[0m \u001b[0my\u001b[0m\u001b[0;34m,\u001b[0m \u001b[0mgroups\u001b[0m\u001b[0;34m)\u001b[0m\u001b[0;34m:\u001b[0m\u001b[0;34m\u001b[0m\u001b[0;34m\u001b[0m\u001b[0m\n\u001b[0m\u001b[1;32m    412\u001b[0m             \u001b[0;32myield\u001b[0m \u001b[0mtrain\u001b[0m\u001b[0;34m,\u001b[0m \u001b[0mtest\u001b[0m\u001b[0;34m\u001b[0m\u001b[0;34m\u001b[0m\u001b[0m\n\u001b[1;32m    413\u001b[0m \u001b[0;34m\u001b[0m\u001b[0m\n",
            "\u001b[0;32m/usr/local/lib/python3.11/dist-packages/sklearn/model_selection/_split.py\u001b[0m in \u001b[0;36msplit\u001b[0;34m(self, X, y, groups)\u001b[0m\n\u001b[1;32m    140\u001b[0m         \u001b[0mX\u001b[0m\u001b[0;34m,\u001b[0m \u001b[0my\u001b[0m\u001b[0;34m,\u001b[0m \u001b[0mgroups\u001b[0m \u001b[0;34m=\u001b[0m \u001b[0mindexable\u001b[0m\u001b[0;34m(\u001b[0m\u001b[0mX\u001b[0m\u001b[0;34m,\u001b[0m \u001b[0my\u001b[0m\u001b[0;34m,\u001b[0m \u001b[0mgroups\u001b[0m\u001b[0;34m)\u001b[0m\u001b[0;34m\u001b[0m\u001b[0;34m\u001b[0m\u001b[0m\n\u001b[1;32m    141\u001b[0m         \u001b[0mindices\u001b[0m \u001b[0;34m=\u001b[0m \u001b[0mnp\u001b[0m\u001b[0;34m.\u001b[0m\u001b[0marange\u001b[0m\u001b[0;34m(\u001b[0m\u001b[0m_num_samples\u001b[0m\u001b[0;34m(\u001b[0m\u001b[0mX\u001b[0m\u001b[0;34m)\u001b[0m\u001b[0;34m)\u001b[0m\u001b[0;34m\u001b[0m\u001b[0;34m\u001b[0m\u001b[0m\n\u001b[0;32m--> 142\u001b[0;31m         \u001b[0;32mfor\u001b[0m \u001b[0mtest_index\u001b[0m \u001b[0;32min\u001b[0m \u001b[0mself\u001b[0m\u001b[0;34m.\u001b[0m\u001b[0m_iter_test_masks\u001b[0m\u001b[0;34m(\u001b[0m\u001b[0mX\u001b[0m\u001b[0;34m,\u001b[0m \u001b[0my\u001b[0m\u001b[0;34m,\u001b[0m \u001b[0mgroups\u001b[0m\u001b[0;34m)\u001b[0m\u001b[0;34m:\u001b[0m\u001b[0;34m\u001b[0m\u001b[0;34m\u001b[0m\u001b[0m\n\u001b[0m\u001b[1;32m    143\u001b[0m             \u001b[0mtrain_index\u001b[0m \u001b[0;34m=\u001b[0m \u001b[0mindices\u001b[0m\u001b[0;34m[\u001b[0m\u001b[0mnp\u001b[0m\u001b[0;34m.\u001b[0m\u001b[0mlogical_not\u001b[0m\u001b[0;34m(\u001b[0m\u001b[0mtest_index\u001b[0m\u001b[0;34m)\u001b[0m\u001b[0;34m]\u001b[0m\u001b[0;34m\u001b[0m\u001b[0;34m\u001b[0m\u001b[0m\n\u001b[1;32m    144\u001b[0m             \u001b[0mtest_index\u001b[0m \u001b[0;34m=\u001b[0m \u001b[0mindices\u001b[0m\u001b[0;34m[\u001b[0m\u001b[0mtest_index\u001b[0m\u001b[0;34m]\u001b[0m\u001b[0;34m\u001b[0m\u001b[0;34m\u001b[0m\u001b[0m\n",
            "\u001b[0;32m/usr/local/lib/python3.11/dist-packages/sklearn/model_selection/_split.py\u001b[0m in \u001b[0;36m_iter_test_masks\u001b[0;34m(self, X, y, groups)\u001b[0m\n\u001b[1;32m    836\u001b[0m \u001b[0;34m\u001b[0m\u001b[0m\n\u001b[1;32m    837\u001b[0m     \u001b[0;32mdef\u001b[0m \u001b[0m_iter_test_masks\u001b[0m\u001b[0;34m(\u001b[0m\u001b[0mself\u001b[0m\u001b[0;34m,\u001b[0m \u001b[0mX\u001b[0m\u001b[0;34m,\u001b[0m \u001b[0my\u001b[0m\u001b[0;34m=\u001b[0m\u001b[0;32mNone\u001b[0m\u001b[0;34m,\u001b[0m \u001b[0mgroups\u001b[0m\u001b[0;34m=\u001b[0m\u001b[0;32mNone\u001b[0m\u001b[0;34m)\u001b[0m\u001b[0;34m:\u001b[0m\u001b[0;34m\u001b[0m\u001b[0;34m\u001b[0m\u001b[0m\n\u001b[0;32m--> 838\u001b[0;31m         \u001b[0mtest_folds\u001b[0m \u001b[0;34m=\u001b[0m \u001b[0mself\u001b[0m\u001b[0;34m.\u001b[0m\u001b[0m_make_test_folds\u001b[0m\u001b[0;34m(\u001b[0m\u001b[0mX\u001b[0m\u001b[0;34m,\u001b[0m \u001b[0my\u001b[0m\u001b[0;34m)\u001b[0m\u001b[0;34m\u001b[0m\u001b[0;34m\u001b[0m\u001b[0m\n\u001b[0m\u001b[1;32m    839\u001b[0m         \u001b[0;32mfor\u001b[0m \u001b[0mi\u001b[0m \u001b[0;32min\u001b[0m \u001b[0mrange\u001b[0m\u001b[0;34m(\u001b[0m\u001b[0mself\u001b[0m\u001b[0;34m.\u001b[0m\u001b[0mn_splits\u001b[0m\u001b[0;34m)\u001b[0m\u001b[0;34m:\u001b[0m\u001b[0;34m\u001b[0m\u001b[0;34m\u001b[0m\u001b[0m\n\u001b[1;32m    840\u001b[0m             \u001b[0;32myield\u001b[0m \u001b[0mtest_folds\u001b[0m \u001b[0;34m==\u001b[0m \u001b[0mi\u001b[0m\u001b[0;34m\u001b[0m\u001b[0;34m\u001b[0m\u001b[0m\n",
            "\u001b[0;32m/usr/local/lib/python3.11/dist-packages/sklearn/model_selection/_split.py\u001b[0m in \u001b[0;36m_make_test_folds\u001b[0;34m(self, X, y)\u001b[0m\n\u001b[1;32m    798\u001b[0m         \u001b[0mmin_groups\u001b[0m \u001b[0;34m=\u001b[0m \u001b[0mnp\u001b[0m\u001b[0;34m.\u001b[0m\u001b[0mmin\u001b[0m\u001b[0;34m(\u001b[0m\u001b[0my_counts\u001b[0m\u001b[0;34m)\u001b[0m\u001b[0;34m\u001b[0m\u001b[0;34m\u001b[0m\u001b[0m\n\u001b[1;32m    799\u001b[0m         \u001b[0;32mif\u001b[0m \u001b[0mnp\u001b[0m\u001b[0;34m.\u001b[0m\u001b[0mall\u001b[0m\u001b[0;34m(\u001b[0m\u001b[0mself\u001b[0m\u001b[0;34m.\u001b[0m\u001b[0mn_splits\u001b[0m \u001b[0;34m>\u001b[0m \u001b[0my_counts\u001b[0m\u001b[0;34m)\u001b[0m\u001b[0;34m:\u001b[0m\u001b[0;34m\u001b[0m\u001b[0;34m\u001b[0m\u001b[0m\n\u001b[0;32m--> 800\u001b[0;31m             raise ValueError(\n\u001b[0m\u001b[1;32m    801\u001b[0m                 \u001b[0;34m\"n_splits=%d cannot be greater than the\"\u001b[0m\u001b[0;34m\u001b[0m\u001b[0;34m\u001b[0m\u001b[0m\n\u001b[1;32m    802\u001b[0m                 \u001b[0;34m\" number of members in each class.\"\u001b[0m \u001b[0;34m%\u001b[0m \u001b[0;34m(\u001b[0m\u001b[0mself\u001b[0m\u001b[0;34m.\u001b[0m\u001b[0mn_splits\u001b[0m\u001b[0;34m)\u001b[0m\u001b[0;34m\u001b[0m\u001b[0;34m\u001b[0m\u001b[0m\n",
            "\u001b[0;31mValueError\u001b[0m: n_splits=2 cannot be greater than the number of members in each class."
          ]
        }
      ]
    },
    {
      "cell_type": "code",
      "source": [
        "# Reduce the number of cross-validation folds (cv) to 1\n",
        "# or increase the size of your training data so that you have at least 2 samples of each class within each fold\n",
        "# or remove the `stratify` keyword argument from `train_test_split`\n",
        "nb = cross_val_score(gnb, X_train, y_train, cv=1)  # Change cv to 1\n",
        "print(\"Train Data:\", numpy.mean(nb))\n",
        "\n",
        "gnb = GaussianNB()\n",
        "nb = cross_val_score(gnb, X_test, y_test, cv=1)  # Change cv to 1\n",
        "print(\"Test Data:\", numpy.mean(nb))"
      ],
      "metadata": {
        "id": "vYjb9myepcHT",
        "outputId": "6b1e464a-531c-45fc-f3c1-83ad26697f7d",
        "colab": {
          "base_uri": "https://localhost:8080/",
          "height": 408
        }
      },
      "execution_count": null,
      "outputs": [
        {
          "output_type": "error",
          "ename": "InvalidParameterError",
          "evalue": "The 'cv' parameter of cross_val_score must be an int in the range [2, inf), an object implementing 'split' and 'get_n_splits', an iterable or None. Got 1 instead.",
          "traceback": [
            "\u001b[0;31m---------------------------------------------------------------------------\u001b[0m",
            "\u001b[0;31mInvalidParameterError\u001b[0m                     Traceback (most recent call last)",
            "\u001b[0;32m<ipython-input-40-31ebd080a036>\u001b[0m in \u001b[0;36m<cell line: 0>\u001b[0;34m()\u001b[0m\n\u001b[1;32m      2\u001b[0m \u001b[0;31m# or increase the size of your training data so that you have at least 2 samples of each class within each fold\u001b[0m\u001b[0;34m\u001b[0m\u001b[0;34m\u001b[0m\u001b[0m\n\u001b[1;32m      3\u001b[0m \u001b[0;31m# or remove the `stratify` keyword argument from `train_test_split`\u001b[0m\u001b[0;34m\u001b[0m\u001b[0;34m\u001b[0m\u001b[0m\n\u001b[0;32m----> 4\u001b[0;31m \u001b[0mnb\u001b[0m \u001b[0;34m=\u001b[0m \u001b[0mcross_val_score\u001b[0m\u001b[0;34m(\u001b[0m\u001b[0mgnb\u001b[0m\u001b[0;34m,\u001b[0m \u001b[0mX_train\u001b[0m\u001b[0;34m,\u001b[0m \u001b[0my_train\u001b[0m\u001b[0;34m,\u001b[0m \u001b[0mcv\u001b[0m\u001b[0;34m=\u001b[0m\u001b[0;36m1\u001b[0m\u001b[0;34m)\u001b[0m  \u001b[0;31m# Change cv to 1\u001b[0m\u001b[0;34m\u001b[0m\u001b[0;34m\u001b[0m\u001b[0m\n\u001b[0m\u001b[1;32m      5\u001b[0m \u001b[0mprint\u001b[0m\u001b[0;34m(\u001b[0m\u001b[0;34m\"Train Data:\"\u001b[0m\u001b[0;34m,\u001b[0m \u001b[0mnumpy\u001b[0m\u001b[0;34m.\u001b[0m\u001b[0mmean\u001b[0m\u001b[0;34m(\u001b[0m\u001b[0mnb\u001b[0m\u001b[0;34m)\u001b[0m\u001b[0;34m)\u001b[0m\u001b[0;34m\u001b[0m\u001b[0;34m\u001b[0m\u001b[0m\n\u001b[1;32m      6\u001b[0m \u001b[0;34m\u001b[0m\u001b[0m\n",
            "\u001b[0;32m/usr/local/lib/python3.11/dist-packages/sklearn/utils/_param_validation.py\u001b[0m in \u001b[0;36mwrapper\u001b[0;34m(*args, **kwargs)\u001b[0m\n\u001b[1;32m    204\u001b[0m             \u001b[0mparams\u001b[0m \u001b[0;34m=\u001b[0m \u001b[0;34m{\u001b[0m\u001b[0mk\u001b[0m\u001b[0;34m:\u001b[0m \u001b[0mv\u001b[0m \u001b[0;32mfor\u001b[0m \u001b[0mk\u001b[0m\u001b[0;34m,\u001b[0m \u001b[0mv\u001b[0m \u001b[0;32min\u001b[0m \u001b[0mparams\u001b[0m\u001b[0;34m.\u001b[0m\u001b[0marguments\u001b[0m\u001b[0;34m.\u001b[0m\u001b[0mitems\u001b[0m\u001b[0;34m(\u001b[0m\u001b[0;34m)\u001b[0m \u001b[0;32mif\u001b[0m \u001b[0mk\u001b[0m \u001b[0;32mnot\u001b[0m \u001b[0;32min\u001b[0m \u001b[0mto_ignore\u001b[0m\u001b[0;34m}\u001b[0m\u001b[0;34m\u001b[0m\u001b[0;34m\u001b[0m\u001b[0m\n\u001b[1;32m    205\u001b[0m \u001b[0;34m\u001b[0m\u001b[0m\n\u001b[0;32m--> 206\u001b[0;31m             validate_parameter_constraints(\n\u001b[0m\u001b[1;32m    207\u001b[0m                 \u001b[0mparameter_constraints\u001b[0m\u001b[0;34m,\u001b[0m \u001b[0mparams\u001b[0m\u001b[0;34m,\u001b[0m \u001b[0mcaller_name\u001b[0m\u001b[0;34m=\u001b[0m\u001b[0mfunc\u001b[0m\u001b[0;34m.\u001b[0m\u001b[0m__qualname__\u001b[0m\u001b[0;34m\u001b[0m\u001b[0;34m\u001b[0m\u001b[0m\n\u001b[1;32m    208\u001b[0m             )\n",
            "\u001b[0;32m/usr/local/lib/python3.11/dist-packages/sklearn/utils/_param_validation.py\u001b[0m in \u001b[0;36mvalidate_parameter_constraints\u001b[0;34m(parameter_constraints, params, caller_name)\u001b[0m\n\u001b[1;32m     96\u001b[0m                 )\n\u001b[1;32m     97\u001b[0m \u001b[0;34m\u001b[0m\u001b[0m\n\u001b[0;32m---> 98\u001b[0;31m             raise InvalidParameterError(\n\u001b[0m\u001b[1;32m     99\u001b[0m                 \u001b[0;34mf\"The {param_name!r} parameter of {caller_name} must be\"\u001b[0m\u001b[0;34m\u001b[0m\u001b[0;34m\u001b[0m\u001b[0m\n\u001b[1;32m    100\u001b[0m                 \u001b[0;34mf\" {constraints_str}. Got {param_val!r} instead.\"\u001b[0m\u001b[0;34m\u001b[0m\u001b[0;34m\u001b[0m\u001b[0m\n",
            "\u001b[0;31mInvalidParameterError\u001b[0m: The 'cv' parameter of cross_val_score must be an int in the range [2, inf), an object implementing 'split' and 'get_n_splits', an iterable or None. Got 1 instead."
          ]
        }
      ]
    }
  ]
}